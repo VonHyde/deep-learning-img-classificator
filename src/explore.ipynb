{
    "cells": [
        {
            "cell_type": "markdown",
            "metadata": {},
            "source": [
                "# Explore here"
            ]
        },
        {
            "cell_type": "code",
            "execution_count": 12,
            "metadata": {},
            "outputs": [],
            "source": [
                "import os\n",
                "import numpy as np\n",
                "from keras.preprocessing.image import ImageDataGenerator"
            ]
        },
        {
            "cell_type": "code",
            "execution_count": 16,
            "metadata": {},
            "outputs": [
                {
                    "name": "stdout",
                    "output_type": "stream",
                    "text": [
                        "Found 19968 images belonging to 1 classes.\n",
                        "Found 4991 images belonging to 1 classes.\n"
                    ]
                }
            ],
            "source": [
                "from keras.preprocessing import image\n",
                "\n",
                "data_dir = r\"C:\\Users\\Dario Z\\Desktop\\Data Science\\Proyectos\\deep-learning-img-classificator\\data\\raw\\kagglecatsanddogs_3367a\"\n",
                "cat_img= r\"C:\\Users\\Dario Z\\Desktop\\Data Science\\Proyectos\\deep-learning-img-classificator\\data\\raw\\kagglecatsanddogs_3367a\\PetImages\\Cat\"\n",
                "dog_img=r\"C:\\Users\\Dario Z\\Desktop\\Data Science\\Proyectos\\deep-learning-img-classificator\\data\\raw\\kagglecatsanddogs_3367a\\PetImages\\Dog\"\n",
                "\n",
                "def load_and_preprocess_images(data_dir, target_size=(200, 200)):\n",
                "    image_files = os.listdir(data_dir)\n",
                "    images = []\n",
                "    labels = []\n",
                "\n",
                "    for filename in image_files:\n",
                "        img_path = os.path.join(data_dir, filename)\n",
                "        img = image.load_img(img_path, target_size=target_size)\n",
                "        img_array = image.img_to_array(img)\n",
                "        images.append(img_array)\n",
                "        \n",
                "        # Determina la etiqueta basada en el nombre del archivo\n",
                "        if 'perro' in filename:\n",
                "            labels.append(0)\n",
                "        elif 'gato' in filename:\n",
                "            labels.append(1)\n",
                "\n",
                "    return np.array(images), np.array(labels)"
            ]
        }
    ],
    "metadata": {
        "kernelspec": {
            "display_name": "Python 3.8.13 64-bit ('3.8.13')",
            "language": "python",
            "name": "python3"
        },
        "language_info": {
            "codemirror_mode": {
                "name": "ipython",
                "version": 3
            },
            "file_extension": ".py",
            "mimetype": "text/x-python",
            "name": "python",
            "nbconvert_exporter": "python",
            "pygments_lexer": "ipython3",
            "version": "3.10.0"
        },
        "orig_nbformat": 4,
        "vscode": {
            "interpreter": {
                "hash": "110cc1dee26208153f2972f08a2ad52b6a56238dc66d48e87fb757ef2996db56"
            }
        }
    },
    "nbformat": 4,
    "nbformat_minor": 2
}
